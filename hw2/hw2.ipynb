{
  "nbformat": 4,
  "nbformat_minor": 0,
  "metadata": {
    "colab": {
      "name": "Untitled0.ipynb",
      "provenance": [],
      "include_colab_link": true
    },
    "kernelspec": {
      "name": "python3",
      "display_name": "Python 3"
    }
  },
  "cells": [
    {
      "cell_type": "markdown",
      "metadata": {
        "id": "view-in-github",
        "colab_type": "text"
      },
      "source": [
        "<a href=\"https://colab.research.google.com/github/CharlesColgan/MSDS-6350-6373-CODE/blob/master/hw2/hw2.ipynb\" target=\"_parent\"><img src=\"https://colab.research.google.com/assets/colab-badge.svg\" alt=\"Open In Colab\"/></a>"
      ]
    },
    {
      "cell_type": "markdown",
      "metadata": {
        "id": "CG4-0Pt9dVIX"
      },
      "source": [
        "Packages"
      ]
    },
    {
      "cell_type": "code",
      "metadata": {
        "id": "yuUYKw2Ub_1i"
      },
      "source": [
        "import pandas as pd\n",
        "import numpy as np\n",
        "import functools\n",
        "import sklearn as sk\n",
        "from sklearn.preprocessing import StandardScaler\n",
        "from sklearn.model_selection import train_test_split\n",
        "from sklearn.decomposition import PCA\n",
        "import matplotlib.pyplot as plt"
      ],
      "execution_count": 16,
      "outputs": []
    },
    {
      "cell_type": "markdown",
      "metadata": {
        "id": "5O40nKZgd0Fi"
      },
      "source": [
        "Data Set"
      ]
    },
    {
      "cell_type": "code",
      "metadata": {
        "id": "EJ1tRCEHdYZ2"
      },
      "source": [
        "BITSTREAMVERA = pd.read_csv(\"https://raw.githubusercontent.com/CharlesColgan/MSDS-6350-6373-CODE/master/hw2/BITSTREAMVERA.csv\")\n",
        "\n",
        "CONSOLAS = pd.read_csv(\"https://raw.githubusercontent.com/CharlesColgan/MSDS-6350-6373-CODE/master/hw2/CONSOLAS.csv\")\n",
        "\n",
        "EBRIMA = pd.read_csv(\"https://raw.githubusercontent.com/CharlesColgan/MSDS-6350-6373-CODE/master/hw2/EBRIMA.csv\")"
      ],
      "execution_count": 17,
      "outputs": []
    },
    {
      "cell_type": "markdown",
      "metadata": {
        "id": "uBuPq6k4il5e"
      },
      "source": [
        "Cleaning and Sorting"
      ]
    },
    {
      "cell_type": "code",
      "metadata": {
        "id": "v1oIjmecfQPN"
      },
      "source": [
        "drop_names = [\"fontVariant\", \"m_label\", \"orientation\", \"m_top\", \"m_left\", \"originalH\", \"originalW\", \"h\", \"w\"]\n",
        "\n",
        "CL1 = BITSTREAMVERA.dropna()\n",
        "\n",
        "CL1.drop(columns = drop_names, inplace = True)\n",
        "\n",
        "CL1.drop(CL1[(CL1[\"strength\"] != 0.4) | (CL1[\"italic\"] != 0)].index, inplace = True)\n",
        "\n",
        "CL2 = CONSOLAS.dropna()\n",
        "\n",
        "CL2.drop(columns = drop_names, inplace = True)\n",
        "\n",
        "CL2.drop(CL2[(CL2[\"strength\"] != 0.4) | (CL2[\"italic\"] != 0)].index, inplace = True)\n",
        "\n",
        "CL3 = EBRIMA.dropna()\n",
        "\n",
        "CL3.drop(columns = drop_names, inplace = True)\n",
        "\n",
        "CL3.drop(CL3[(CL3[\"strength\"] != 0.4) | (CL3[\"italic\"] != 0)].index, inplace = True)\n",
        "\n",
        "DATA = pd.concat([CL1, CL2, CL3], ignore_index=True)"
      ],
      "execution_count": 18,
      "outputs": []
    },
    {
      "cell_type": "markdown",
      "metadata": {
        "id": "CkEj1bThLex6"
      },
      "source": [
        "Standardize"
      ]
    },
    {
      "cell_type": "code",
      "metadata": {
        "id": "VVsH7BmnQvgC"
      },
      "source": [
        "for cl in [CL1, CL2, CL3]:\n",
        "    cl[cl.columns[3:]] = pd.DataFrame(StandardScaler().fit_transform(cl[cl.columns[3:]]))\n",
        "\n",
        "SDATA = pd.concat([CL1,CL2,CL3], ignore_index = True)"
      ],
      "execution_count": 19,
      "outputs": []
    },
    {
      "cell_type": "markdown",
      "metadata": {
        "id": "uJEEF6Fxr8BC"
      },
      "source": [
        "correlation matrix"
      ]
    },
    {
      "cell_type": "code",
      "metadata": {
        "id": "EACPoLcVKTjV"
      },
      "source": [
        "CORR = DATA[3:].corr()"
      ],
      "execution_count": 20,
      "outputs": []
    },
    {
      "cell_type": "markdown",
      "metadata": {
        "id": "g2UybSnksFH1"
      },
      "source": [
        "#re-classifying the new data"
      ]
    },
    {
      "cell_type": "markdown",
      "metadata": {
        "id": "xR3crIlasOyx"
      },
      "source": [
        "define test&training sets"
      ]
    },
    {
      "cell_type": "code",
      "metadata": {
        "id": "gMTAgId_sPbn"
      },
      "source": [
        "#create train/test set\n",
        "train, test = train_test_split(SDATA, test_size = 0.2, random_state = 0)\n",
        "\n",
        "x_train = train.drop(['font', 'strength', 'italic'], axis=1)\n",
        "\n",
        "x_test = test.drop(['font', 'strength', 'italic'], axis=1)\n",
        "\n",
        "y_train = train['font']\n",
        "\n",
        "y_test = test['font']"
      ],
      "execution_count": 21,
      "outputs": []
    },
    {
      "cell_type": "markdown",
      "metadata": {
        "id": "qkroKx4-0_E_"
      },
      "source": [
        "#finding H0 and H*"
      ]
    },
    {
      "cell_type": "code",
      "metadata": {
        "id": "9bUjiNrV1GvJ",
        "colab": {
          "base_uri": "https://localhost:8080/",
          "height": 1000
        },
        "outputId": "f724663f-49b3-4dfe-8d99-8c8269b129da"
      },
      "source": [
        "#H0:\n",
        "pca = PCA(n_components = 400)\n",
        "\n",
        "pca.fit_transform(SDATA[SDATA.columns[3:]])\n",
        "\n",
        "pev = pca.explained_variance_ratio_.cumsum()\n",
        "\n",
        "h0 = np.where(pev>=0.95)[0][0]+1\n",
        "\n",
        "plt.plot(pev, 'o'); plt.ylabel('PEV'); plt.xlabel('h'); plt.show() #plot PVE\n",
        "\n",
        "#H*:\n",
        "hi = []\n",
        "\n",
        "for i in [CL1, CL2, CL3]:\n",
        "  pca = PCA(n_components = 400)\n",
        "\n",
        "  pca.fit_transform(i[i.columns[3:]])\n",
        "\n",
        "  pev = pca.explained_variance_ratio_.cumsum()\n",
        "\n",
        "  hi.append(np.where(pev >= 0.99)[0][0]+1)\n",
        "\n",
        "  print(i['font'][0], '\\n')\n",
        "\n",
        "  plt.plot(pev, 'o'); plt.ylabel('PEV'); plt.xlabel('h'); plt.show() #plot PVE\n",
        "  \n",
        "h_star = sum(hi)"
      ],
      "execution_count": 22,
      "outputs": [
        {
          "output_type": "display_data",
          "data": {
            "image/png": "[encoded data removed]",
            "text/plain": [
              "<Figure size 432x288 with 1 Axes>"
            ]
          },
          "metadata": {
            "tags": [],
            "needs_background": "light"
          }
        },
        {
          "output_type": "stream",
          "text": [
            "BITSTREAMVERA \n",
            "\n"
          ],
          "name": "stdout"
        },
        {
          "output_type": "display_data",
          "data": {
            "image/png": "[encoded data removed]",
            "text/plain": [
              "<Figure size 432x288 with 1 Axes>"
            ]
          },
          "metadata": {
            "tags": [],
            "needs_background": "light"
          }
        },
        {
          "output_type": "stream",
          "text": [
            "CONSOLAS \n",
            "\n"
          ],
          "name": "stdout"
        },
        {
          "output_type": "display_data",
          "data": {
            "image/png": "[encoded data removed]",
            "text/plain": [
              "<Figure size 432x288 with 1 Axes>"
            ]
          },
          "metadata": {
            "tags": [],
            "needs_background": "light"
          }
        },
        {
          "output_type": "stream",
          "text": [
            "EBRIMA \n",
            "\n"
          ],
          "name": "stdout"
        },
        {
          "output_type": "display_data",
          "data": {
            "image/png": "[encoded data removed]",
            "text/plain": [
              "<Figure size 432x288 with 1 Axes>"
            ]
          },
          "metadata": {
            "tags": [],
            "needs_background": "light"
          }
        }
      ]
    },
    {
      "cell_type": "markdown",
      "metadata": {
        "id": "PU842EBF1bQq"
      },
      "source": [
        "MLP0"
      ]
    },
    {
      "cell_type": "code",
      "metadata": {
        "id": "FUFdj3Q-1cpT",
        "colab": {
          "base_uri": "https://localhost:8080/",
          "height": 313
        },
        "outputId": "a87c82c8-5401-4fd8-a37a-e8d19545a378"
      },
      "source": [
        "import tensorflow as tf\n",
        "from tensorflow import keras\n",
        "from tensorflow.keras import layers, callbacks\n",
        "from tensorflow.keras.models import load_model\n",
        "tf.get_logger().setLevel('ERROR') #surpress logging \n",
        "\n",
        "def plotPerf(monitor):\n",
        "  plt.plot(monitor.model.history.history['loss'], label = 'Training loss')\n",
        "\n",
        "  plt.plot(monitor.model.history.history['val_loss'], label = 'Test loss')\n",
        "\n",
        "  plt.xlabel('Epoch'); plt.ylabel('Loss (CrossEntr)')\n",
        "\n",
        "  plt.legend(); plt.grid(True); plt.show()\n",
        "\n",
        "def ypred(x, model):\n",
        "  return list(map({0:'BITSTREAMVERA', 1:'CONSOLAS', 2:'EBRIMA'}.get, model.predict(x).argmax(axis = -1)))\n",
        "\n",
        "def conf(actu, pred):\n",
        "  y_actu = pd.Series(np.array(actu), name = 'Actual')\n",
        "\n",
        "  y_pred = pd.Series(pred, name = 'Predicted')\n",
        "\n",
        "  df_confusion = pd.crosstab(y_actu, y_pred)\n",
        "\n",
        "  return df_confusion/ df_confusion.sum()\n",
        "\n",
        "inputs = keras.Input(shape = (400,))\n",
        "\n",
        "x1 = layers.Dense(h0,activation = \"sigmoid\")(inputs)\n",
        "\n",
        "outputs = layers.Dense(3, activation = \"softmax\")(x1)\n",
        "\n",
        "model0 = keras.Model(inputs = inputs,outputs = outputs)\n",
        "\n",
        "#model0.summary()\n",
        "\n",
        "optimizer = keras.optimizers.Adam()\n",
        "\n",
        "loss_fn = keras.losses.SparseCategoricalCrossentropy()\n",
        "\n",
        "model0.compile(optimizer = optimizer,loss = loss_fn, metrics = ['accuracy'])\n",
        "\n",
        "batch = round(len(train)**0.5)\n",
        "\n",
        "Monitor0 = model0.fit(x_train, y_train.astype('category').cat.codes, epochs = 150, batch_size = batch,\n",
        "                      validation_data = (x_test, y_test.astype('category').cat.codes), verbose = 0)\n",
        "\n",
        "print('MLP0:\\n')\n",
        "\n",
        "plotPerf(Monitor0) #visually find stabT, overfitT, stopT\n"
      ],
      "execution_count": 23,
      "outputs": [
        {
          "output_type": "stream",
          "text": [
            "MLP0:\n",
            "\n"
          ],
          "name": "stdout"
        },
        {
          "output_type": "display_data",
          "data": {
            "image/png": "[encoded data removed]",
            "text/plain": [
              "<Figure size 432x288 with 1 Axes>"
            ]
          },
          "metadata": {
            "tags": [],
            "needs_background": "light"
          }
        }
      ]
    },
    {
      "cell_type": "markdown",
      "metadata": {
        "id": "42ewwr3kJn6Q"
      },
      "source": [
        "Confusion Matrices for StabT"
      ]
    },
    {
      "cell_type": "code",
      "metadata": {
        "id": "cVzkp5EzJniG",
        "colab": {
          "base_uri": "https://localhost:8080/"
        },
        "outputId": "22e6ffb9-3537-421b-df23-739c24a4fb9b"
      },
      "source": [
        "stabT = 45\n",
        "\n",
        "class CustomSaver(keras.callbacks.Callback):\n",
        "    def on_epoch_end(self, epoch, logs={}):\n",
        "        if epoch == stabT:\n",
        "            self.model.save(\"modelh0_{}\".format(epoch))\n",
        "\n",
        "checkpoint = CustomSaver()\n",
        "\n",
        "inputs = keras.Input(shape = (400,))\n",
        "\n",
        "x1 = layers.Dense(h0,activation = \"sigmoid\")(inputs)\n",
        "\n",
        "outputs = layers.Dense(3, activation = \"softmax\")(x1)\n",
        "\n",
        "model0 = keras.Model(inputs = inputs,outputs = outputs)\n",
        "\n",
        "model0.compile(optimizer = optimizer, loss = loss_fn,  metrics = ['accuracy'])\n",
        "\n",
        "model0.fit(x_train, y_train.astype('category').cat.codes, epochs = stabT+1, batch_size = batch,\n",
        "                      validation_data = (x_test, y_test.astype('category').cat.codes), callbacks = [checkpoint], verbose = 0)\n",
        "\n",
        "model0_stab = load_model(\"modelh0_{}\".format(stabT))\n",
        "\n",
        "trainConf0 = conf(y_train, ypred(x_train, model0_stab))\n",
        "\n",
        "print('MLP0 train:\\n', trainConf0)\n",
        "\n",
        "testConf0 = conf(y_test, ypred(x_test, model0_stab))\n",
        "\n",
        "print('\\nMLP0 test:\\n', testConf0)"
      ],
      "execution_count": 24,
      "outputs": [
        {
          "output_type": "stream",
          "text": [
            "MLP0 train:\n",
            " Predicted      BITSTREAMVERA  CONSOLAS  EBRIMA\n",
            "Actual                                        \n",
            "BITSTREAMVERA            1.0       0.0     0.0\n",
            "CONSOLAS                 0.0       1.0     0.0\n",
            "EBRIMA                   0.0       0.0     1.0\n",
            "\n",
            "MLP0 test:\n",
            " Predicted      BITSTREAMVERA  CONSOLAS    EBRIMA\n",
            "Actual                                          \n",
            "BITSTREAMVERA       0.987013  0.003937  0.006873\n",
            "CONSOLAS            0.000000  0.854331  0.127148\n",
            "EBRIMA              0.012987  0.141732  0.865979\n"
          ],
          "name": "stdout"
        }
      ]
    },
    {
      "cell_type": "markdown",
      "metadata": {
        "id": "QfBqKnf-1-tn"
      },
      "source": [
        "MLP*"
      ]
    },
    {
      "cell_type": "code",
      "metadata": {
        "id": "MatJWIUZ2AAL",
        "colab": {
          "base_uri": "https://localhost:8080/",
          "height": 643
        },
        "outputId": "cfaf2fd8-fbfc-41ec-810f-209049256fcc"
      },
      "source": [
        "#define sparsity regularization layer\n",
        "class SparsityRegularizationLayer(layers.Layer):\n",
        "  def __init__(self, C=0.01, Tar=0.01, **kwargs):\n",
        "        super().__init__(**kwargs)\n",
        "\n",
        "        self.C = C\n",
        "\n",
        "        self.Tar = Tar\n",
        "\n",
        "  def call(self, inputs):\n",
        "    avAL = tf.reduce_mean(inputs)\n",
        "\n",
        "    self.add_loss(  self.C * (  -1*self.Tar*tf.math.log(avAL) + (self.Tar-1)*tf.math.log(1-avAL)  )  )\n",
        "\n",
        "    return inputs\n",
        "\n",
        "  def get_config(self):\n",
        "        config = super().get_config().copy()\n",
        "\n",
        "        config.update({\n",
        "            'C': self.C,\n",
        "            'Tar': self.Tar,\n",
        "        })\n",
        "\n",
        "        return config\n",
        "\n",
        "#Sparsity TAR = 10%\n",
        "inputs = keras.Input(shape = (400,))\n",
        "\n",
        "x1 = layers.Dense(h_star,activation = \"sigmoid\")(inputs)\n",
        "\n",
        "x1 = SparsityRegularizationLayer(C = 0.15, Tar = 0.1)(x1)\n",
        "\n",
        "outputs = layers.Dense(3, activation = \"softmax\")(x1)\n",
        "\n",
        "modelh10 = keras.Model(inputs = inputs, outputs = outputs)\n",
        "\n",
        "modelh10.compile(optimizer = optimizer, loss = loss_fn, metrics = ['accuracy'])\n",
        "\n",
        "Monitorh10 = modelh10.fit(x_train, y_train.astype('category').cat.codes,epochs = 150, batch_size = batch,\n",
        "                      validation_data = (x_test, y_test.astype('category').cat.codes), verbose = 0)\n",
        "\n",
        "print('MLP* TAR=10%:\\n')\n",
        "\n",
        "plotPerf(Monitorh10) #visually find stabT, overfitT, stopT\n",
        "\n",
        "#Sparsity TAR = 20%\n",
        "inputs = keras.Input(shape = (400,))\n",
        "\n",
        "x2 = layers.Dense(h_star,activation = \"sigmoid\")(inputs)\n",
        "\n",
        "x2 = SparsityRegularizationLayer(C = 0.15, Tar = 0.2)(x2)\n",
        "\n",
        "outputs = layers.Dense(3, activation = \"softmax\")(x2)\n",
        "\n",
        "modelh20 = keras.Model(inputs = inputs, outputs = outputs)\n",
        "\n",
        "modelh20.compile(optimizer = optimizer, loss = loss_fn, metrics = ['accuracy'])\n",
        "\n",
        "Monitorh20 = modelh20.fit(x_train, y_train.astype('category').cat.codes,epochs = 150, batch_size = batch,\n",
        "                      validation_data = (x_test, y_test.astype('category').cat.codes), verbose = 0)\n",
        "\n",
        "print('\\n\\nMLP* TAR=20%:\\n')\n",
        "\n",
        "plotPerf(Monitorh20) #visually find stabT, overfitT, stopT\n"
      ],
      "execution_count": 25,
      "outputs": [
        {
          "output_type": "stream",
          "text": [
            "MLP* TAR=10%:\n",
            "\n"
          ],
          "name": "stdout"
        },
        {
          "output_type": "display_data",
          "data": {
            "image/png": "[encoded data removed]",
            "text/plain": [
              "<Figure size 432x288 with 1 Axes>"
            ]
          },
          "metadata": {
            "tags": [],
            "needs_background": "light"
          }
        },
        {
          "output_type": "stream",
          "text": [
            "\n",
            "\n",
            "MLP* TAR=20%:\n",
            "\n"
          ],
          "name": "stdout"
        },
        {
          "output_type": "display_data",
          "data": {
            "image/png": "[encoded data removed]",
            "text/plain": [
              "<Figure size 432x288 with 1 Axes>"
            ]
          },
          "metadata": {
            "tags": [],
            "needs_background": "light"
          }
        }
      ]
    },
    {
      "cell_type": "markdown",
      "metadata": {
        "id": "SbmI_z1jVBp0"
      },
      "source": [
        "Confusion Matrices"
      ]
    },
    {
      "cell_type": "code",
      "metadata": {
        "id": "i3WCHyUTLfvZ",
        "colab": {
          "base_uri": "https://localhost:8080/"
        },
        "outputId": "74268c59-44ab-49e4-8bce-59bb75261bef"
      },
      "source": [
        "#TAR=10%\n",
        "stabT1 = 45\n",
        "\n",
        "class CustomSaver(keras.callbacks.Callback):\n",
        "    def on_epoch_end(self, epoch, logs = {}):\n",
        "        if epoch == stabT1:\n",
        "            self.model.save(\"modelh10_{}\".format(epoch))\n",
        "\n",
        "checkpoint = CustomSaver()\n",
        "\n",
        "inputs = keras.Input(shape = (400,))\n",
        "\n",
        "x1 = layers.Dense(h_star,activation = \"sigmoid\")(inputs)\n",
        "\n",
        "x1 = SparsityRegularizationLayer(C = 0.15, Tar = 0.1)(x1)\n",
        "\n",
        "outputs = layers.Dense(3, activation = \"softmax\")(x1)\n",
        "\n",
        "modelh10 = keras.Model(inputs = inputs, outputs = outputs)\n",
        "\n",
        "modelh10.compile(optimizer = optimizer, loss = loss_fn, metrics = ['accuracy'])\n",
        "\n",
        "modelh10.fit(x_train, y_train.astype('category').cat.codes,epochs = stabT1+1, batch_size = batch,\n",
        "                      validation_data = (x_test, y_test.astype('category').cat.codes),callbacks = [checkpoint], verbose = 0)\n",
        "\n",
        "modelh10_stab = load_model(\"modelh10_{}\".format(stabT1))\n",
        "\n",
        "#TAR=20%\n",
        "stabT2 = 45\n",
        "class CustomSaver(keras.callbacks.Callback):\n",
        "    def on_epoch_end(self, epoch, logs = {}):\n",
        "        if epoch == stabT2:\n",
        "            self.model.save(\"modelh20_{}\".format(epoch))\n",
        "\n",
        "checkpoint = CustomSaver()\n",
        "inputs = keras.Input(shape = (400,))\n",
        "\n",
        "x2 = layers.Dense(h_star,activation = \"sigmoid\")(inputs)\n",
        "\n",
        "x2 = SparsityRegularizationLayer(C = 0.15, Tar = 0.2)(x2)\n",
        "\n",
        "outputs = layers.Dense(3, activation = \"softmax\")(x2)\n",
        "\n",
        "modelh20 = keras.Model(inputs = inputs, outputs = outputs)\n",
        "\n",
        "modelh20.compile(optimizer=optimizer,loss=loss_fn, metrics=['accuracy'])\n",
        "modelh20.fit(x_train, y_train.astype('category').cat.codes, epochs = stabT2+1, batch_size = batch,\n",
        "                      validation_data = (x_test, y_test.astype('category').cat.codes), callbacks = [checkpoint], verbose = 0)\n",
        "\n",
        "modelh20_stab = load_model(\"modelh20_{}\".format(stabT2))\n",
        "\n",
        "#conf matrices\n",
        "print('MLP* TAR=10%:\\n')\n",
        "\n",
        "trainConfh10 = conf(y_train, ypred(x_train, modelh10_stab))\n",
        "\n",
        "print('MLP* train:\\n', trainConfh10)\n",
        "\n",
        "testConfh10 = conf(y_test, ypred(x_test, modelh10_stab))\n",
        "\n",
        "print('\\nMLP* test:\\n', testConfh10)\n",
        "\n",
        "print('\\n\\nMLP* TAR=20%:\\n')\n",
        "\n",
        "trainConfh20 = conf(y_train, ypred(x_train, modelh20_stab))\n",
        "\n",
        "print('MLP* train:\\n', trainConfh20)\n",
        "\n",
        "testConfh20 = conf(y_test, ypred(x_test, modelh20_stab))\n",
        "\n",
        "print('\\nMLP* test:\\n', testConfh20)"
      ],
      "execution_count": 26,
      "outputs": [
        {
          "output_type": "stream",
          "text": [
            "MLP* TAR=10%:\n",
            "\n",
            "MLP* train:\n",
            " Predicted      BITSTREAMVERA  CONSOLAS  EBRIMA\n",
            "Actual                                        \n",
            "BITSTREAMVERA            1.0       0.0     0.0\n",
            "CONSOLAS                 0.0       1.0     0.0\n",
            "EBRIMA                   0.0       0.0     1.0\n",
            "\n",
            "MLP* test:\n",
            " Predicted      BITSTREAMVERA  CONSOLAS    EBRIMA\n",
            "Actual                                          \n",
            "BITSTREAMVERA       0.984946  0.000000  0.006431\n",
            "CONSOLAS            0.008602  0.896907  0.102894\n",
            "EBRIMA              0.006452  0.103093  0.890675\n",
            "\n",
            "\n",
            "MLP* TAR=20%:\n",
            "\n",
            "MLP* train:\n",
            " Predicted      BITSTREAMVERA  CONSOLAS  EBRIMA\n",
            "Actual                                        \n",
            "BITSTREAMVERA            1.0       0.0     0.0\n",
            "CONSOLAS                 0.0       1.0     0.0\n",
            "EBRIMA                   0.0       0.0     1.0\n",
            "\n",
            "MLP* test:\n",
            " Predicted      BITSTREAMVERA  CONSOLAS    EBRIMA\n",
            "Actual                                          \n",
            "BITSTREAMVERA       0.993492  0.000000  0.006536\n",
            "CONSOLAS            0.002169  0.888664  0.101307\n",
            "EBRIMA              0.004338  0.111336  0.892157\n"
          ],
          "name": "stdout"
        }
      ]
    },
    {
      "cell_type": "markdown",
      "metadata": {
        "id": "TnEe_3HIUWmP"
      },
      "source": [
        "#MLP* Activity"
      ]
    },
    {
      "cell_type": "markdown",
      "metadata": {
        "id": "UcnH3S5tzMcE"
      },
      "source": [
        "**(Very unsure, please check!)**"
      ]
    },
    {
      "cell_type": "code",
      "metadata": {
        "id": "xhg08HMRUbr4",
        "colab": {
          "base_uri": "https://localhost:8080/",
          "height": 265
        },
        "outputId": "303e96b2-056e-49a9-b71f-082556164ca1"
      },
      "source": [
        "#performance is about the same for both sparsity levels?\n",
        "modelh = modelh20_stab\n",
        "\n",
        "activity = modelh.layers[1](np.array(SDATA[SDATA.columns[3:]])).numpy()\n",
        "\n",
        "ACTn = np.mean(activity, axis = 1)\n",
        "\n",
        "pd.Series(ACTn).plot.hist()\n",
        "\n",
        "avact = np.mean(ACTn)\n",
        "\n",
        "stdact = np.std(ACTn)\n",
        "\n",
        "per_half = sum(ACTn < avact/2)/len(ACTn)\n",
        "\n",
        "per_third = sum(ACTn < avact/3)/len(ACTn)\n"
      ],
      "execution_count": 27,
      "outputs": [
        {
          "output_type": "display_data",
          "data": {
            "image/png": "[encoded data removed]",
            "text/plain": [
              "<Figure size 432x288 with 1 Axes>"
            ]
          },
          "metadata": {
            "tags": [],
            "needs_background": "light"
          }
        }
      ]
    },
    {
      "cell_type": "markdown",
      "metadata": {
        "id": "-W1IJqcFVwbt"
      },
      "source": [
        "#Autoencoder"
      ]
    },
    {
      "cell_type": "markdown",
      "metadata": {
        "id": "X6X7fYeoV8e7"
      },
      "source": [
        "PCA on zn to get size s"
      ]
    },
    {
      "cell_type": "code",
      "metadata": {
        "id": "qRaEqH-7V2hH"
      },
      "source": [
        "zn = modelh.layers[1](np.array(SDATA[SDATA.columns[3:]])).numpy() #Xn -> Zn:\n",
        "\n",
        "pca = PCA(n_components = zn.shape[1])\n",
        "\n",
        "pca.fit_transform(zn)\n",
        "\n",
        "pev = pca.explained_variance_ratio_.cumsum()\n",
        "\n",
        "s = np.where(pev>=0.95)[0][0]+1\n",
        "\n",
        "#plt.plot(pev, 'o'); plt.ylabel('PEV'); plt.xlabel('s'); plt.show() #plot PVE\n"
      ],
      "execution_count": 28,
      "outputs": []
    },
    {
      "cell_type": "markdown",
      "metadata": {
        "id": "_PKrmZtKV7td"
      },
      "source": [
        "Build autoencoder"
      ]
    },
    {
      "cell_type": "code",
      "metadata": {
        "id": "6RRL0Gd7WLHk"
      },
      "source": [
        "z_test = modelh.layers[1](np.array(x_test)).numpy()\n",
        "\n",
        "z_train = modelh.layers[1](np.array(x_train)).numpy()\n",
        "\n",
        "inputs = keras.Input(shape = (h_star,))\n",
        "\n",
        "x1 = layers.Dense(s,activation = \"sigmoid\")(inputs)\n",
        "\n",
        "outputs = layers.Dense(h_star, activation = \"sigmoid\")(x1)\n",
        "\n",
        "autoEncoder = keras.Model(inputs = inputs, outputs = outputs)\n",
        "\n",
        "autoEncoder.compile(optimizer=optimizer,loss=keras.losses.MeanSquaredError())\n",
        "\n",
        "checkpoint = callbacks.ModelCheckpoint(filepath = 'encoder', monitor = 'val_loss', save_best_only = True)\n",
        "\n",
        "Monitor = autoEncoder.fit(z_train, z_train,epochs = 80, batch_size = batch, validation_data = (z_test, z_test), callbacks = [checkpoint], verbose = 0)\n",
        "\n",
        "autoEncoder = load_model('encoder')"
      ],
      "execution_count": 29,
      "outputs": []
    },
    {
      "cell_type": "markdown",
      "metadata": {
        "id": "wcIO1tqnWQe0"
      },
      "source": [
        "MPL**"
      ]
    },
    {
      "cell_type": "markdown",
      "metadata": {
        "id": "fefo7AV19JB5"
      },
      "source": [
        "**(PLEASE CHECK!!)**"
      ]
    },
    {
      "cell_type": "code",
      "metadata": {
        "id": "cNmeHdDyWXSo",
        "colab": {
          "base_uri": "https://localhost:8080/"
        },
        "outputId": "3e9de07b-fdc6-41af-9647-91ac60b57cfd"
      },
      "source": [
        "model = load_model('encoder')\n",
        "\n",
        "#Xn -> Zn -> Kn:\n",
        "kn = model.layers[1](zn).numpy()\n",
        "\n",
        "kn_test = model.layers[1](z_test).numpy()\n",
        "\n",
        "kn_train = model.layers[1](z_train).numpy()\n",
        "\n",
        "#Kn -> (Out) -> P(n)\n",
        "inputs = keras.Input(shape = (kn.shape[1],))\n",
        "\n",
        "outputs = layers.Dense(3, activation = \"softmax\")(inputs)\n",
        "\n",
        "modelhstar2 = keras.Model(inputs = inputs, outputs = outputs)\n",
        "\n",
        "modelhstar2.compile(optimizer = optimizer, loss = loss_fn, metrics = ['accuracy'])\n",
        "\n",
        "checkpoint = callbacks.ModelCheckpoint(filepath = 'BestModel_hstar2', monitor = 'val_accuracy', save_best_only = True)\n",
        "\n",
        "Monitor2 = modelhstar2.fit(kn_train, y_train.astype('category').cat.codes, epochs = 150, batch_size = batch,\n",
        "                      validation_data = (kn_test, y_test.astype('category').cat.codes), callbacks = [checkpoint], verbose = 0)\n",
        "\n",
        "trainConf2 = conf(y_train, ypred(kn_train, Monitor2.model))\n",
        "\n",
        "print('MLP** train:\\n', trainConf2)\n",
        "\n",
        "testConf2 = conf(y_test, ypred(kn_test, Monitor2.model))\n",
        "\n",
        "print('\\nMLP** test:\\n', testConf2)"
      ],
      "execution_count": 30,
      "outputs": [
        {
          "output_type": "stream",
          "text": [
            "MLP** train:\n",
            " Predicted      BITSTREAMVERA  CONSOLAS  EBRIMA\n",
            "Actual                                        \n",
            "BITSTREAMVERA            1.0       0.0     0.0\n",
            "CONSOLAS                 0.0       1.0     0.0\n",
            "EBRIMA                   0.0       0.0     1.0\n",
            "\n",
            "MLP** test:\n",
            " Predicted      BITSTREAMVERA  CONSOLAS    EBRIMA\n",
            "Actual                                          \n",
            "BITSTREAMVERA       0.980728   0.00000  0.006515\n",
            "CONSOLAS            0.006424   0.87885  0.130293\n",
            "EBRIMA              0.012848   0.12115  0.863192\n"
          ],
          "name": "stdout"
        }
      ]
    }
  ]
}