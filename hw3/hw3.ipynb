{
  "nbformat": 4,
  "nbformat_minor": 0,
  "metadata": {
    "colab": {
      "name": "Untitled1.ipynb",
      "provenance": [],
      "include_colab_link": true
    },
    "kernelspec": {
      "name": "python3",
      "display_name": "Python 3"
    },
    "language_info": {
      "name": "python"
    }
  },
  "cells": [
    {
      "cell_type": "markdown",
      "metadata": {
        "id": "view-in-github",
        "colab_type": "text"
      },
      "source": [
        "<a href=\"https://colab.research.google.com/github/sul01/MSDS-CODE/blob/master/hw3/hw3.ipynb\" target=\"_parent\"><img src=\"https://colab.research.google.com/assets/colab-badge.svg\" alt=\"Open In Colab\"/></a>"
      ]
    },
    {
      "cell_type": "markdown",
      "metadata": {
        "id": "NayBKnJGkSH1"
      },
      "source": [
        "#Preprocessing"
      ]
    },
    {
      "cell_type": "code",
      "metadata": {
        "id": "fO8T1ISW8cOF"
      },
      "source": [
        "import numpy as np\n",
        "import pandas as pd\n",
        "\n",
        "#loading\n",
        "BITSTREAMVERA = pd.read_csv(\"https://raw.githubusercontent.com/CharlesColgan/MSDS-6350-6373-CODE/master/hw2/BITSTREAMVERA.csv\")\n",
        "CENTURY = pd.read_csv('https://raw.githubusercontent.com/sul01/MSDS-CODE/master/hw3/CENTURY.csv')\n",
        "CONSOLAS = pd.read_csv(\"https://raw.githubusercontent.com/CharlesColgan/MSDS-6350-6373-CODE/master/hw2/CONSOLAS.csv\")\n",
        "EBRIMA = pd.read_csv(\"https://raw.githubusercontent.com/CharlesColgan/MSDS-6350-6373-CODE/master/hw2/EBRIMA.csv\")\n",
        "GILL = pd.read_csv('https://raw.githubusercontent.com/sul01/MSDS-CODE/master/hw3/GILL.csv')\n",
        "\n",
        "#cleaning\n",
        "drop_names = [\"fontVariant\",\"m_label\",\"orientation\",\"m_top\",\"m_left\",\"originalH\",\"originalW\",\"h\",\"w\"]\n",
        "FONT = [BITSTREAMVERA, CENTURY, CONSOLAS, EBRIMA, GILL]; CL = []\n",
        "for i in range(5):\n",
        "  CL.append(FONT[i][(FONT[i]['strength']==0.4) & (FONT[i]['italic']==0)].drop(drop_names,axis=1))\n",
        "\n",
        "#transforming\n",
        "def fontToMatrix(font, df):\n",
        "  for case in range(df.shape[0]):\n",
        "    font[case] =  np.array(df[df.columns[3:]].iloc[case]).reshape(20,20)\n",
        "\n",
        "FONT_mat = [] #font as 20x20 matrix\n",
        "for i in range(5):\n",
        "  FONT_mat.append(np.empty((CL[i].shape[0],20,20), int))\n",
        "  fontToMatrix(FONT_mat[i], CL[i])"
      ],
      "execution_count": 9,
      "outputs": []
    },
    {
      "cell_type": "markdown",
      "metadata": {
        "id": "UjTroxPPkW5D"
      },
      "source": [
        "Examples"
      ]
    },
    {
      "cell_type": "code",
      "metadata": {
        "id": "SAVenXDYeZma",
        "colab": {
          "base_uri": "https://localhost:8080/",
          "height": 1000
        },
        "outputId": "ee00cc22-1cb3-4dc6-c012-12d2760359e9"
      },
      "source": [
        "import matplotlib.pyplot as plt\n",
        "\n",
        "print('Bitstream\\n'); plt.imshow(FONT_mat[0][8], cmap=plt.cm.binary); plt.show() \n",
        "print('Century\\n'); plt.imshow(FONT_mat[1][199], cmap=plt.cm.binary); plt.show() \n",
        "print('Consolas\\n'); plt.imshow(FONT_mat[2][26], cmap=plt.cm.binary); plt.show() \n",
        "print('Ebrima\\n'); plt.imshow(FONT_mat[3][1387], cmap=plt.cm.binary); plt.show() \n",
        "print('Gill\\n'); plt.imshow(FONT_mat[4][243], cmap=plt.cm.binary); plt.show() "
      ],
      "execution_count": 10,
      "outputs": [
        {
          "output_type": "stream",
          "text": [
            "Bitstream\n",
            "\n"
          ],
          "name": "stdout"
        },
        {
          "output_type": "display_data",
          "data": {
            "image/png": "[encoded data removed]",
            "text/plain": [
              "<Figure size 432x288 with 1 Axes>"
            ]
          },
          "metadata": {
            "tags": [],
            "needs_background": "light"
          }
        },
        {
          "output_type": "stream",
          "text": [
            "Century\n",
            "\n"
          ],
          "name": "stdout"
        },
        {
          "output_type": "display_data",
          "data": {
            "image/png": "[encoded data removed]",
            "text/plain": [
              "<Figure size 432x288 with 1 Axes>"
            ]
          },
          "metadata": {
            "tags": [],
            "needs_background": "light"
          }
        },
        {
          "output_type": "stream",
          "text": [
            "Consolas\n",
            "\n"
          ],
          "name": "stdout"
        },
        {
          "output_type": "display_data",
          "data": {
            "image/png": "[encoded data removed]",
            "text/plain": [
              "<Figure size 432x288 with 1 Axes>"
            ]
          },
          "metadata": {
            "tags": [],
            "needs_background": "light"
          }
        },
        {
          "output_type": "stream",
          "text": [
            "Ebrima\n",
            "\n"
          ],
          "name": "stdout"
        },
        {
          "output_type": "display_data",
          "data": {
            "image/png": "[encoded data removed]",
            "text/plain": [
              "<Figure size 432x288 with 1 Axes>"
            ]
          },
          "metadata": {
            "tags": [],
            "needs_background": "light"
          }
        },
        {
          "output_type": "stream",
          "text": [
            "Gill\n",
            "\n"
          ],
          "name": "stdout"
        },
        {
          "output_type": "display_data",
          "data": {
            "image/png": "[encoded data removed]",
            "text/plain": [
              "<Figure size 432x288 with 1 Axes>"
            ]
          },
          "metadata": {
            "tags": [],
            "needs_background": "light"
          }
        }
      ]
    },
    {
      "cell_type": "markdown",
      "metadata": {
        "id": "uysAFZA-yshI"
      },
      "source": [
        "train/test split"
      ]
    },
    {
      "cell_type": "code",
      "metadata": {
        "id": "XTt7dRHWlLgf"
      },
      "source": [
        "from sklearn.model_selection import train_test_split\n",
        "\n",
        "def ypred(x, model):\n",
        "  return list(map({0:'BITSTREAMVERA', 1:'CENTURY', 2:'CONSOLAS', 3:'EBRIMA', 4:'GILL'}.get, model.predict(x).argmax(axis = -1)))\n",
        "\n",
        "dataX = np.concatenate(([FONT_mat[i] for i in range(5)])).reshape(-1,20,20,1)\n",
        "dataY = np.concatenate(([CL[i]['font'] for i in range(5)]))\n",
        "train, test = train_test_split(range(dataX.shape[0]), test_size = 0.2, random_state = 0)\n",
        "x_train = dataX[train]; x_test = dataX[test]\n",
        "y_train = dataY[train]; y_test = dataY[test]"
      ],
      "execution_count": 11,
      "outputs": []
    },
    {
      "cell_type": "markdown",
      "metadata": {
        "id": "s12xugA3eKL8"
      },
      "source": [
        "#CNN"
      ]
    },
    {
      "cell_type": "markdown",
      "metadata": {
        "id": "67Jr7-U6iQH1"
      },
      "source": [
        "(https://www.tensorflow.org/tutorials/images/cnn)"
      ]
    },
    {
      "cell_type": "code",
      "metadata": {
        "id": "qL_UbbEkeMJk",
        "colab": {
          "base_uri": "https://localhost:8080/"
        },
        "outputId": "16ba4b52-951d-42e9-ceca-634e5580a7b0"
      },
      "source": [
        "import tensorflow as tf\n",
        "from tensorflow.keras import datasets, layers, models\n",
        "\n",
        "#build (step 3)\n",
        "model = models.Sequential()\n",
        "model.add(layers.Conv2D(16, (5, 5), activation='relu', input_shape=(20, 20, 1)))\n",
        "model.add(layers.MaxPooling2D((2, 2), strides= 2))\n",
        "model.add(layers.Conv2D(16, (3, 3), activation='relu'))\n",
        "model.add(layers.MaxPooling2D((2, 2), strides= 2))\n",
        "model.add(layers.Flatten())\n",
        "model.add(layers.Dense(100, activation='relu')) #100 chosen at random\n",
        "model.add(layers.Dense(5))\n",
        "model.add(layers.Dense(5, activation='softmax'))\n",
        "#model.summary()\n",
        "\n",
        "model.compile(optimizer='adam', loss=tf.keras.losses.CategoricalCrossentropy(from_logits=True), metrics=['accuracy'])\n",
        "monitor = model.fit(x_train, tf.one_hot(pd.Series(y_train,dtype='category').astype('category').cat.codes,5), epochs=20, batch_size= int(len(train)**0.5),\n",
        "                    validation_data=(x_test, tf.one_hot(pd.Series(y_test, dtype='category').astype('category').cat.codes,5)))"
      ],
      "execution_count": 17,
      "outputs": [
        {
          "output_type": "stream",
          "text": [
            "Epoch 1/20\n",
            "89/89 [==============================] - 2s 22ms/step - loss: 10.9520 - accuracy: 0.2922 - val_loss: 1.8665 - val_accuracy: 0.4275\n",
            "Epoch 2/20\n",
            "89/89 [==============================] - 2s 21ms/step - loss: 1.6405 - accuracy: 0.4734 - val_loss: 1.3887 - val_accuracy: 0.4731\n",
            "Epoch 3/20\n",
            "89/89 [==============================] - 2s 21ms/step - loss: 1.2636 - accuracy: 0.5173 - val_loss: 1.2495 - val_accuracy: 0.5417\n",
            "Epoch 4/20\n",
            "89/89 [==============================] - 2s 21ms/step - loss: 1.1217 - accuracy: 0.5614 - val_loss: 1.1773 - val_accuracy: 0.5376\n",
            "Epoch 5/20\n",
            "89/89 [==============================] - 2s 20ms/step - loss: 1.0396 - accuracy: 0.6051 - val_loss: 1.1029 - val_accuracy: 0.5832\n",
            "Epoch 6/20\n",
            "89/89 [==============================] - 2s 21ms/step - loss: 0.9669 - accuracy: 0.6271 - val_loss: 1.0869 - val_accuracy: 0.5842\n",
            "Epoch 7/20\n",
            "89/89 [==============================] - 2s 21ms/step - loss: 0.9429 - accuracy: 0.6436 - val_loss: 1.0657 - val_accuracy: 0.6011\n",
            "Epoch 8/20\n",
            "89/89 [==============================] - 2s 21ms/step - loss: 0.8786 - accuracy: 0.6607 - val_loss: 0.9995 - val_accuracy: 0.6324\n",
            "Epoch 9/20\n",
            "89/89 [==============================] - 2s 20ms/step - loss: 0.8196 - accuracy: 0.6923 - val_loss: 0.9680 - val_accuracy: 0.6513\n",
            "Epoch 10/20\n",
            "89/89 [==============================] - 2s 20ms/step - loss: 0.7453 - accuracy: 0.7227 - val_loss: 0.9954 - val_accuracy: 0.6288\n",
            "Epoch 11/20\n",
            "89/89 [==============================] - 2s 20ms/step - loss: 0.7307 - accuracy: 0.7256 - val_loss: 0.9401 - val_accuracy: 0.6508\n",
            "Epoch 12/20\n",
            "89/89 [==============================] - 2s 21ms/step - loss: 0.6978 - accuracy: 0.7382 - val_loss: 0.9418 - val_accuracy: 0.6723\n",
            "Epoch 13/20\n",
            "89/89 [==============================] - 2s 21ms/step - loss: 0.6500 - accuracy: 0.7592 - val_loss: 0.9320 - val_accuracy: 0.6733\n",
            "Epoch 14/20\n",
            "89/89 [==============================] - 2s 20ms/step - loss: 0.6319 - accuracy: 0.7603 - val_loss: 0.9451 - val_accuracy: 0.6641\n",
            "Epoch 15/20\n",
            "89/89 [==============================] - 2s 22ms/step - loss: 0.5974 - accuracy: 0.7798 - val_loss: 0.9227 - val_accuracy: 0.6815\n",
            "Epoch 16/20\n",
            "89/89 [==============================] - 2s 23ms/step - loss: 0.5487 - accuracy: 0.7944 - val_loss: 0.9009 - val_accuracy: 0.6969\n",
            "Epoch 17/20\n",
            "89/89 [==============================] - 2s 23ms/step - loss: 0.5310 - accuracy: 0.7981 - val_loss: 0.9105 - val_accuracy: 0.6923\n",
            "Epoch 18/20\n",
            "89/89 [==============================] - 2s 23ms/step - loss: 0.5159 - accuracy: 0.8099 - val_loss: 0.8694 - val_accuracy: 0.7102\n",
            "Epoch 19/20\n",
            "89/89 [==============================] - 2s 23ms/step - loss: 0.4481 - accuracy: 0.8417 - val_loss: 0.8758 - val_accuracy: 0.7005\n",
            "Epoch 20/20\n",
            "89/89 [==============================] - 2s 23ms/step - loss: 0.4493 - accuracy: 0.8370 - val_loss: 0.8672 - val_accuracy: 0.7153\n"
          ],
          "name": "stdout"
        }
      ]
    },
    {
      "cell_type": "markdown",
      "metadata": {
        "id": "zh_CY74anfxz"
      },
      "source": [
        "Performance during learning (currently incorrect for training sets)"
      ]
    },
    {
      "cell_type": "code",
      "metadata": {
        "id": "1DI_r1ELniUk",
        "colab": {
          "base_uri": "https://localhost:8080/",
          "height": 541
        },
        "outputId": "8153221f-249c-45c6-e345-164b083cefe8"
      },
      "source": [
        "def plotCrssEntr(monitor):\n",
        "  plt.plot(monitor.model.history.history['loss'], label = 'Training loss')\n",
        "  plt.plot(monitor.model.history.history['val_loss'], label = 'Test loss')\n",
        "  plt.xlabel('Epoch'); plt.ylabel('Loss (CrossEntr)')\n",
        "  plt.legend(); plt.grid(True); plt.show()\n",
        "\n",
        "def plotAcc(monitor):\n",
        "  plt.plot(monitor.model.history.history['accuracy'], label = 'Training accuracy')\n",
        "  plt.plot(monitor.model.history.history['val_accuracy'], label = 'Test accuracy')\n",
        "  plt.xlabel('Epoch'); plt.ylabel('Accuracy')\n",
        "  plt.legend(); plt.grid(True); plt.show()\n",
        "\n",
        "plotCrssEntr(monitor); plotAcc(monitor)"
      ],
      "execution_count": 18,
      "outputs": [
        {
          "output_type": "display_data",
          "data": {
            "image/png": "[encoded data removed]",
            "text/plain": [
              "<Figure size 432x288 with 1 Axes>"
            ]
          },
          "metadata": {
            "tags": [],
            "needs_background": "light"
          }
        },
        {
          "output_type": "display_data",
          "data": {
            "image/png": "[encoded data removed]",
            "text/plain": [
              "<Figure size 432x288 with 1 Axes>"
            ]
          },
          "metadata": {
            "tags": [],
            "needs_background": "light"
          }
        }
      ]
    },
    {
      "cell_type": "markdown",
      "metadata": {
        "id": "fEJy_QGwoElA"
      },
      "source": [
        "Conf Matirx"
      ]
    },
    {
      "cell_type": "code",
      "metadata": {
        "id": "3Gr1TW_koHCx",
        "colab": {
          "base_uri": "https://localhost:8080/"
        },
        "outputId": "02b31e47-b92a-4b75-9367-0fc498bbd3d9"
      },
      "source": [
        "def conf(actu, pred):\n",
        "  y_actu = pd.Series(np.array(actu), name = 'Actual')\n",
        "  y_pred = pd.Series(pred, name = 'Predicted')\n",
        "  df_confusion = pd.crosstab(y_actu, y_pred)\n",
        "  return df_confusion/ df_confusion.sum()\n",
        "\n",
        "trainConf = conf(y_train, ypred(x_train, monitor.model))\n",
        "print('Train:\\n', trainConf)\n",
        "\n",
        "testConf = conf(y_test, ypred(x_test, monitor.model))\n",
        "print('\\nTest:\\n', testConf)"
      ],
      "execution_count": 19,
      "outputs": [
        {
          "output_type": "stream",
          "text": [
            "Train:\n",
            " Predicted      BITSTREAMVERA   CENTURY  CONSOLAS    EBRIMA      GILL\n",
            "Actual                                                              \n",
            "BITSTREAMVERA       0.948802  0.003922  0.040339  0.003695  0.019409\n",
            "CENTURY             0.005447  0.915033  0.045817  0.043607  0.056377\n",
            "CONSOLAS            0.019063  0.016993  0.766932  0.109387  0.044362\n",
            "EBRIMA              0.005447  0.040523  0.087151  0.804139  0.036044\n",
            "GILL                0.021242  0.023529  0.059761  0.039172  0.843808\n",
            "\n",
            "Test:\n",
            " Predicted      BITSTREAMVERA   CENTURY  CONSOLAS    EBRIMA      GILL\n",
            "Actual                                                              \n",
            "BITSTREAMVERA       0.836207  0.018325  0.050388  0.022293  0.046931\n",
            "CENTURY             0.012931  0.777487  0.063953  0.060510  0.079422\n",
            "CONSOLAS            0.060345  0.054974  0.645349  0.210191  0.144404\n",
            "EBRIMA              0.019397  0.112565  0.143411  0.636943  0.083032\n",
            "GILL                0.071121  0.036649  0.096899  0.070064  0.646209\n"
          ],
          "name": "stdout"
        }
      ]
    }
  ]
}