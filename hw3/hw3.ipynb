{
  "nbformat": 4,
  "nbformat_minor": 0,
  "metadata": {
    "colab": {
      "name": "Untitled1.ipynb",
      "provenance": [],
      "include_colab_link": true
    },
    "kernelspec": {
      "name": "python3",
      "display_name": "Python 3"
    },
    "language_info": {
      "name": "python"
    }
  },
  "cells": [
    {
      "cell_type": "markdown",
      "metadata": {
        "id": "view-in-github",
        "colab_type": "text"
      },
      "source": [
        "<a href=\"https://colab.research.google.com/github/sul01/MSDS-CODE/blob/master/hw3/hw3.ipynb\" target=\"_parent\"><img src=\"https://colab.research.google.com/assets/colab-badge.svg\" alt=\"Open In Colab\"/></a>"
      ]
    },
    {
      "cell_type": "code",
      "metadata": {
        "id": "fO8T1ISW8cOF"
      },
      "source": [
        "import numpy as np\n",
        "import pandas as pd\n",
        "import seaborn as sns\n",
        "\n",
        "#loading\n",
        "BITSTREAMVERA = pd.read_csv(\"https://raw.githubusercontent.com/CharlesColgan/MSDS-6350-6373-CODE/master/hw2/BITSTREAMVERA.csv\")\n",
        "CENTURY = pd.read_csv('https://raw.githubusercontent.com/CharlesColgan/MSDS-6350-6373-CODE/master/hw3/CENTURY.csv')\n",
        "CONSOLAS = pd.read_csv(\"https://raw.githubusercontent.com/CharlesColgan/MSDS-6350-6373-CODE/master/hw2/CONSOLAS.csv\")\n",
        "EBRIMA = pd.read_csv(\"https://raw.githubusercontent.com/CharlesColgan/MSDS-6350-6373-CODE/master/hw2/EBRIMA.csv\")\n",
        "GILL = pd.read_csv('https://raw.githubusercontent.com/CharlesColgan/MSDS-6350-6373-CODE/master/hw3/GILL.csv')\n",
        "\n",
        "#cleaning\n",
        "drop_names = [\"fontVariant\",\"m_label\",\"orientation\",\"m_top\",\"m_left\",\"originalH\",\"originalW\",\"h\",\"w\"]\n",
        "FONT = [BITSTREAMVERA, CENTURY, CONSOLAS, EBRIMA, GILL]; CL = []\n",
        "for i in range(5):\n",
        "  CL.append(FONT[i][(FONT[i]['strength']==0.4) & (FONT[i]['italic']==0)].drop(drop_names,axis=1))\n",
        "\n",
        "#transforming\n",
        "def fontToMatrix(font, df):\n",
        "  for case in range(df.shape[0]):\n",
        "    font[case] =  np.array(df[df.columns[3:]].iloc[case]).reshape(20,20)\n",
        "\n",
        "FONT_mat = [] #font as 20x20 matrix\n",
        "for i in range(5):\n",
        "  FONT_mat.append(np.empty((CL[i].shape[0],20,20), int))\n",
        "  fontToMatrix(FONT_mat[i], CL[i])"
      ],
      "execution_count": 12,
      "outputs": []
    },
    {
      "cell_type": "code",
      "metadata": {
        "id": "IupHpCQN_mYf",
        "colab": {
          "base_uri": "https://localhost:8080/",
          "height": 282
        },
        "outputId": "4dbfac85-fc97-4d28-80c6-6ec6b4e89b84"
      },
      "source": [
        "sns.heatmap(FONT_mat[4][870]) #example: Gill, case 871"
      ],
      "execution_count": 22,
      "outputs": [
        {
          "output_type": "execute_result",
          "data": {
            "text/plain": [
              "<matplotlib.axes._subplots.AxesSubplot at 0x7f558fcbcc10>"
            ]
          },
          "metadata": {
            "tags": []
          },
          "execution_count": 22
        },
        {
          "output_type": "display_data",
          "data": {
            "image/png": "[encoded data removed]",
            "text/plain": [
              "<Figure size 432x288 with 2 Axes>"
            ]
          },
          "metadata": {
            "tags": [],
            "needs_background": "light"
          }
        }
      ]
    }
  ]
}