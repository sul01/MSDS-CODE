{
  "nbformat": 4,
  "nbformat_minor": 0,
  "metadata": {
    "colab": {
      "name": "Untitled1.ipynb",
      "provenance": [],
      "include_colab_link": true
    },
    "kernelspec": {
      "name": "python3",
      "display_name": "Python 3"
    },
    "language_info": {
      "name": "python"
    }
  },
  "cells": [
    {
      "cell_type": "markdown",
      "metadata": {
        "id": "view-in-github",
        "colab_type": "text"
      },
      "source": [
        "<a href=\"https://colab.research.google.com/github/sul01/MSDS-CODE/blob/master/hw3/hw3.ipynb\" target=\"_parent\"><img src=\"https://colab.research.google.com/assets/colab-badge.svg\" alt=\"Open In Colab\"/></a>"
      ]
    },
    {
      "cell_type": "markdown",
      "metadata": {
        "id": "NayBKnJGkSH1"
      },
      "source": [
        "#Preprocessing"
      ]
    },
    {
      "cell_type": "code",
      "metadata": {
        "id": "fO8T1ISW8cOF"
      },
      "source": [
        "import numpy as np\n",
        "import pandas as pd\n",
        "\n",
        "#loading\n",
        "BITSTREAMVERA = pd.read_csv(\"https://raw.githubusercontent.com/CharlesColgan/MSDS-6350-6373-CODE/master/hw2/BITSTREAMVERA.csv\")\n",
        "CENTURY = pd.read_csv('https://raw.githubusercontent.com/sul01/MSDS-CODE/master/hw3/CENTURY.csv')\n",
        "CONSOLAS = pd.read_csv(\"https://raw.githubusercontent.com/CharlesColgan/MSDS-6350-6373-CODE/master/hw2/CONSOLAS.csv\")\n",
        "EBRIMA = pd.read_csv(\"https://raw.githubusercontent.com/CharlesColgan/MSDS-6350-6373-CODE/master/hw2/EBRIMA.csv\")\n",
        "GILL = pd.read_csv('https://raw.githubusercontent.com/sul01/MSDS-CODE/master/hw3/GILL.csv')\n",
        "\n",
        "#cleaning\n",
        "drop_names = [\"fontVariant\",\"m_label\",\"orientation\",\"m_top\",\"m_left\",\"originalH\",\"originalW\",\"h\",\"w\"]\n",
        "FONT = [BITSTREAMVERA, CENTURY, CONSOLAS, EBRIMA, GILL]; CL = []\n",
        "for i in range(5):\n",
        "  CL.append(FONT[i][(FONT[i]['strength']==0.4) & (FONT[i]['italic']==0)].drop(drop_names,axis=1))\n",
        "\n",
        "#transforming\n",
        "def fontToMatrix(font, df):\n",
        "  for case in range(df.shape[0]):\n",
        "    font[case] =  np.array(df[df.columns[3:]].iloc[case]).reshape(20,20)\n",
        "\n",
        "FONT_mat = [] #font as 20x20 matrix\n",
        "for i in range(5):\n",
        "  FONT_mat.append(np.empty((CL[i].shape[0],20,20), int))\n",
        "  fontToMatrix(FONT_mat[i], CL[i])"
      ],
      "execution_count": 1,
      "outputs": []
    },
    {
      "cell_type": "markdown",
      "metadata": {
        "id": "UjTroxPPkW5D"
      },
      "source": [
        "Examples"
      ]
    },
    {
      "cell_type": "code",
      "metadata": {
        "id": "SAVenXDYeZma",
        "colab": {
          "base_uri": "https://localhost:8080/",
          "height": 1000
        },
        "outputId": "171746cd-6469-4172-cfe7-06720c82945d"
      },
      "source": [
        "import matplotlib.pyplot as plt\n",
        "\n",
        "print('Bitstream\\n'); plt.imshow(FONT_mat[0][8], cmap=plt.cm.binary); plt.show() \n",
        "print('Century\\n'); plt.imshow(FONT_mat[1][199], cmap=plt.cm.binary); plt.show() \n",
        "print('Consolas\\n'); plt.imshow(FONT_mat[2][26], cmap=plt.cm.binary); plt.show() \n",
        "print('Ebrima\\n'); plt.imshow(FONT_mat[3][1387], cmap=plt.cm.binary); plt.show() \n",
        "print('Gill\\n'); plt.imshow(FONT_mat[4][243], cmap=plt.cm.binary); plt.show() "
      ],
      "execution_count": 5,
      "outputs": [
        {
          "output_type": "stream",
          "text": [
            "Bitstream\n",
            "\n"
          ],
          "name": "stdout"
        },
        {
          "output_type": "display_data",
          "data": {
            "image/png": "[encoded data removed]",
            "text/plain": [
              "<Figure size 432x288 with 1 Axes>"
            ]
          },
          "metadata": {
            "tags": [],
            "needs_background": "light"
          }
        },
        {
          "output_type": "stream",
          "text": [
            "Century\n",
            "\n"
          ],
          "name": "stdout"
        },
        {
          "output_type": "display_data",
          "data": {
            "image/png": "[encoded data removed]",
            "text/plain": [
              "<Figure size 432x288 with 1 Axes>"
            ]
          },
          "metadata": {
            "tags": [],
            "needs_background": "light"
          }
        },
        {
          "output_type": "stream",
          "text": [
            "Consolas\n",
            "\n"
          ],
          "name": "stdout"
        },
        {
          "output_type": "display_data",
          "data": {
            "image/png": "[encoded data removed]",
            "text/plain": [
              "<Figure size 432x288 with 1 Axes>"
            ]
          },
          "metadata": {
            "tags": [],
            "needs_background": "light"
          }
        },
        {
          "output_type": "stream",
          "text": [
            "Ebrima\n",
            "\n"
          ],
          "name": "stdout"
        },
        {
          "output_type": "display_data",
          "data": {
            "image/png": "[encoded data removed]",
            "text/plain": [
              "<Figure size 432x288 with 1 Axes>"
            ]
          },
          "metadata": {
            "tags": [],
            "needs_background": "light"
          }
        },
        {
          "output_type": "stream",
          "text": [
            "Gill\n",
            "\n"
          ],
          "name": "stdout"
        },
        {
          "output_type": "display_data",
          "data": {
            "image/png": "[encoded data removed]",
            "text/plain": [
              "<Figure size 432x288 with 1 Axes>"
            ]
          },
          "metadata": {
            "tags": [],
            "needs_background": "light"
          }
        }
      ]
    },
    {
      "cell_type": "markdown",
      "metadata": {
        "id": "uysAFZA-yshI"
      },
      "source": [
        "train/test split"
      ]
    },
    {
      "cell_type": "code",
      "metadata": {
        "id": "XTt7dRHWlLgf"
      },
      "source": [
        "from sklearn.model_selection import train_test_split\n",
        "\n",
        "def ypred(x, model):\n",
        "  return list(map({0:'BITSTREAMVERA', 1:'CENTURY', 2:'CONSOLAS', 3:'EBRIMA', 4:'GILL'}.get, model.predict(x).argmax(axis = -1)))\n",
        "\n",
        "dataX = np.concatenate(([FONT_mat[i] for i in range(5)])).reshape(-1,20,20,1)\n",
        "dataY = np.concatenate(([CL[i]['font'] for i in range(5)]))\n",
        "train, test = train_test_split(range(dataX.shape[0]), test_size = 0.2, random_state = 0)\n",
        "x_train = dataX[train]; x_test = dataX[test]\n",
        "y_train = dataY[train]; y_test = dataY[test]"
      ],
      "execution_count": 2,
      "outputs": []
    },
    {
      "cell_type": "markdown",
      "metadata": {
        "id": "s12xugA3eKL8"
      },
      "source": [
        "#CNN"
      ]
    },
    {
      "cell_type": "markdown",
      "metadata": {
        "id": "67Jr7-U6iQH1"
      },
      "source": [
        "(https://www.tensorflow.org/tutorials/images/cnn)"
      ]
    },
    {
      "cell_type": "code",
      "metadata": {
        "id": "qL_UbbEkeMJk",
        "colab": {
          "base_uri": "https://localhost:8080/"
        },
        "outputId": "0f9cc06b-17b4-49f5-fcaa-b62aae0523ff"
      },
      "source": [
        "import tensorflow as tf\n",
        "from tensorflow.keras import datasets, layers, models\n",
        "\n",
        "#build (step 3)\n",
        "model = models.Sequential()\n",
        "model.add(layers.Conv2D(16, (5, 5), activation='relu', input_shape=(20, 20, 1)))\n",
        "model.add(layers.MaxPooling2D((2, 2), strides= 2))\n",
        "model.add(layers.Conv2D(16, (3, 3), activation='relu'))\n",
        "model.add(layers.MaxPooling2D((2, 2), strides= 2))\n",
        "model.add(layers.Flatten())\n",
        "model.add(layers.Dense(100, activation='relu')) #100 chosen at random\n",
        "model.add(layers.Dense(5))\n",
        "#model.summary()\n",
        "\n",
        "model.compile(optimizer='adam', loss=tf.keras.losses.CategoricalCrossentropy(from_logits=True), metrics=['accuracy'])\n",
        "monitor = model.fit(x_train, tf.one_hot(pd.Series(y_train,dtype='category').astype('category').cat.codes,5), epochs=20,\n",
        "                    validation_data=(x_test, tf.one_hot(pd.Series(y_test, dtype='category').astype('category').cat.codes,5)))"
      ],
      "execution_count": 3,
      "outputs": [
        {
          "output_type": "stream",
          "text": [
            "Epoch 1/20\n",
            "245/245 [==============================] - 3s 11ms/step - loss: 5.5072 - accuracy: 0.3029 - val_loss: 1.4000 - val_accuracy: 0.4403\n",
            "Epoch 2/20\n",
            "245/245 [==============================] - 2s 9ms/step - loss: 1.3161 - accuracy: 0.4816 - val_loss: 1.1799 - val_accuracy: 0.5448\n",
            "Epoch 3/20\n",
            "245/245 [==============================] - 2s 9ms/step - loss: 1.0975 - accuracy: 0.5865 - val_loss: 1.0755 - val_accuracy: 0.5893\n",
            "Epoch 4/20\n",
            "245/245 [==============================] - 2s 9ms/step - loss: 1.0146 - accuracy: 0.6134 - val_loss: 0.9837 - val_accuracy: 0.6257\n",
            "Epoch 5/20\n",
            "245/245 [==============================] - 2s 9ms/step - loss: 0.9074 - accuracy: 0.6514 - val_loss: 0.9419 - val_accuracy: 0.6487\n",
            "Epoch 6/20\n",
            "245/245 [==============================] - 2s 9ms/step - loss: 0.8115 - accuracy: 0.7039 - val_loss: 0.9406 - val_accuracy: 0.6523\n",
            "Epoch 7/20\n",
            "245/245 [==============================] - 2s 9ms/step - loss: 0.7796 - accuracy: 0.7145 - val_loss: 0.9096 - val_accuracy: 0.6523\n",
            "Epoch 8/20\n",
            "245/245 [==============================] - 2s 9ms/step - loss: 0.7583 - accuracy: 0.7193 - val_loss: 0.8885 - val_accuracy: 0.6754\n",
            "Epoch 9/20\n",
            "245/245 [==============================] - 2s 9ms/step - loss: 0.6568 - accuracy: 0.7563 - val_loss: 0.9487 - val_accuracy: 0.6667\n",
            "Epoch 10/20\n",
            "245/245 [==============================] - 2s 9ms/step - loss: 0.6033 - accuracy: 0.7736 - val_loss: 0.8586 - val_accuracy: 0.6866\n",
            "Epoch 11/20\n",
            "245/245 [==============================] - 2s 9ms/step - loss: 0.5500 - accuracy: 0.7959 - val_loss: 0.9706 - val_accuracy: 0.6784\n",
            "Epoch 12/20\n",
            "245/245 [==============================] - 2s 9ms/step - loss: 0.6775 - accuracy: 0.7512 - val_loss: 0.8762 - val_accuracy: 0.6959\n",
            "Epoch 13/20\n",
            "245/245 [==============================] - 2s 9ms/step - loss: 0.4800 - accuracy: 0.8282 - val_loss: 0.8528 - val_accuracy: 0.7184\n",
            "Epoch 14/20\n",
            "245/245 [==============================] - 2s 9ms/step - loss: 0.4497 - accuracy: 0.8290 - val_loss: 0.8426 - val_accuracy: 0.7189\n",
            "Epoch 15/20\n",
            "245/245 [==============================] - 2s 9ms/step - loss: 0.4093 - accuracy: 0.8494 - val_loss: 0.8574 - val_accuracy: 0.7199\n",
            "Epoch 16/20\n",
            "245/245 [==============================] - 2s 9ms/step - loss: 0.4519 - accuracy: 0.8351 - val_loss: 0.9236 - val_accuracy: 0.7240\n",
            "Epoch 17/20\n",
            "245/245 [==============================] - 2s 9ms/step - loss: 0.4315 - accuracy: 0.8444 - val_loss: 1.0128 - val_accuracy: 0.7127\n",
            "Epoch 18/20\n",
            "245/245 [==============================] - 2s 9ms/step - loss: 0.4453 - accuracy: 0.8345 - val_loss: 0.9248 - val_accuracy: 0.7281\n",
            "Epoch 19/20\n",
            "245/245 [==============================] - 2s 9ms/step - loss: 0.3276 - accuracy: 0.8815 - val_loss: 1.0013 - val_accuracy: 0.7199\n",
            "Epoch 20/20\n",
            "245/245 [==============================] - 2s 9ms/step - loss: 0.2967 - accuracy: 0.8922 - val_loss: 1.0135 - val_accuracy: 0.7199\n"
          ],
          "name": "stdout"
        }
      ]
    },
    {
      "cell_type": "markdown",
      "metadata": {
        "id": "zh_CY74anfxz"
      },
      "source": [
        "Performance during learning (currently incorrect for training sets)"
      ]
    },
    {
      "cell_type": "code",
      "metadata": {
        "id": "1DI_r1ELniUk",
        "colab": {
          "base_uri": "https://localhost:8080/",
          "height": 543
        },
        "outputId": "146155fa-93df-4b10-f9b4-a52ae00ced24"
      },
      "source": [
        "def plotCrssEntr(monitor):\n",
        "  plt.plot(monitor.model.history.history['loss'], label = 'Training loss')\n",
        "  plt.plot(monitor.model.history.history['val_loss'], label = 'Test loss')\n",
        "  plt.xlabel('Epoch'); plt.ylabel('Loss (CrossEntr)')\n",
        "  plt.legend(); plt.grid(True); plt.show()\n",
        "\n",
        "def plotAcc(monitor):\n",
        "  plt.plot(monitor.model.history.history['accuracy'], label = 'Training accuracy')\n",
        "  plt.plot(monitor.model.history.history['val_accuracy'], label = 'Test accuracy')\n",
        "  plt.xlabel('Epoch'); plt.ylabel('Accuracy')\n",
        "  plt.legend(); plt.grid(True); plt.show()\n",
        "\n",
        "plotCrssEntr(monitor); plotAcc(monitor)"
      ],
      "execution_count": 6,
      "outputs": [
        {
          "output_type": "display_data",
          "data": {
            "image/png": "[encoded data removed]",
            "text/plain": [
              "<Figure size 432x288 with 1 Axes>"
            ]
          },
          "metadata": {
            "tags": [],
            "needs_background": "light"
          }
        },
        {
          "output_type": "display_data",
          "data": {
            "image/png": "[encoded data removed]",
            "text/plain": [
              "<Figure size 432x288 with 1 Axes>"
            ]
          },
          "metadata": {
            "tags": [],
            "needs_background": "light"
          }
        }
      ]
    },
    {
      "cell_type": "markdown",
      "metadata": {
        "id": "fEJy_QGwoElA"
      },
      "source": [
        "Conf Matirx"
      ]
    },
    {
      "cell_type": "code",
      "metadata": {
        "id": "3Gr1TW_koHCx",
        "colab": {
          "base_uri": "https://localhost:8080/"
        },
        "outputId": "234482f2-814f-4053-b649-11d1fcf32deb"
      },
      "source": [
        "def conf(actu, pred):\n",
        "  y_actu = pd.Series(np.array(actu), name = 'Actual')\n",
        "  y_pred = pd.Series(pred, name = 'Predicted')\n",
        "  df_confusion = pd.crosstab(y_actu, y_pred)\n",
        "  return df_confusion/ df_confusion.sum()\n",
        "\n",
        "trainConf = conf(y_train, ypred(x_train, monitor.model))\n",
        "print('Train:\\n', trainConf)\n",
        "\n",
        "testConf = conf(y_test, ypred(x_test, monitor.model))\n",
        "print('\\nTest:\\n', testConf)"
      ],
      "execution_count": 7,
      "outputs": [
        {
          "output_type": "stream",
          "text": [
            "Train:\n",
            " Predicted      BITSTREAMVERA   CENTURY  CONSOLAS    EBRIMA      GILL\n",
            "Actual                                                              \n",
            "BITSTREAMVERA       0.960795  0.005580  0.015969  0.004125  0.019521\n",
            "CENTURY             0.004296  0.852679  0.019273  0.016502  0.027507\n",
            "CONSOLAS            0.016649  0.045759  0.886564  0.019802  0.044366\n",
            "EBRIMA              0.006445  0.041853  0.047907  0.950495  0.042591\n",
            "GILL                0.011815  0.054129  0.030286  0.009076  0.866016\n",
            "\n",
            "Test:\n",
            " Predicted      BITSTREAMVERA   CENTURY  CONSOLAS    EBRIMA      GILL\n",
            "Actual                                                              \n",
            "BITSTREAMVERA       0.857143  0.012632  0.035197  0.012397  0.045775\n",
            "CENTURY             0.008529  0.677895  0.037267  0.070248  0.056338\n",
            "CONSOLAS            0.055437  0.109474  0.683230  0.181818  0.126761\n",
            "EBRIMA              0.017058  0.141053  0.171843  0.669421  0.102113\n",
            "GILL                0.061834  0.058947  0.072464  0.066116  0.669014\n"
          ],
          "name": "stdout"
        }
      ]
    },
    {
      "cell_type": "code",
      "metadata": {
        "id": "B_QNA0ykFV1h",
        "outputId": "92851f47-c553-4301-fd94-48dbc9b04e13",
        "colab": {
          "base_uri": "https://localhost:8080/"
        }
      },
      "source": [
        ""
      ],
      "execution_count": 8,
      "outputs": [
        {
          "output_type": "execute_result",
          "data": {
            "text/plain": [
              "array([0, 1, 3, ..., 2, 2, 0])"
            ]
          },
          "metadata": {
            "tags": []
          },
          "execution_count": 8
        }
      ]
    }
  ]
}