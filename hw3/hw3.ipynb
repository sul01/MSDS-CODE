{
  "nbformat": 4,
  "nbformat_minor": 0,
  "metadata": {
    "colab": {
      "name": "Untitled1.ipynb",
      "provenance": [],
      "include_colab_link": true
    },
    "kernelspec": {
      "name": "python3",
      "display_name": "Python 3"
    },
    "language_info": {
      "name": "python"
    }
  },
  "cells": [
    {
      "cell_type": "markdown",
      "metadata": {
        "id": "view-in-github",
        "colab_type": "text"
      },
      "source": [
        "<a href=\"https://colab.research.google.com/github/sul01/MSDS-CODE/blob/master/hw3/hw3.ipynb\" target=\"_parent\"><img src=\"https://colab.research.google.com/assets/colab-badge.svg\" alt=\"Open In Colab\"/></a>"
      ]
    },
    {
      "cell_type": "markdown",
      "metadata": {
        "id": "NayBKnJGkSH1"
      },
      "source": [
        "#Preprocessing"
      ]
    },
    {
      "cell_type": "code",
      "metadata": {
        "id": "fO8T1ISW8cOF"
      },
      "source": [
        "import numpy as np\n",
        "import pandas as pd\n",
        "\n",
        "#loading\n",
        "BITSTREAMVERA = pd.read_csv(\"https://raw.githubusercontent.com/CharlesColgan/MSDS-6350-6373-CODE/master/hw2/BITSTREAMVERA.csv\")\n",
        "CENTURY = pd.read_csv('https://raw.githubusercontent.com/sul01/MSDS-CODE/master/hw3/CENTURY.csv')\n",
        "CONSOLAS = pd.read_csv(\"https://raw.githubusercontent.com/CharlesColgan/MSDS-6350-6373-CODE/master/hw2/CONSOLAS.csv\")\n",
        "EBRIMA = pd.read_csv(\"https://raw.githubusercontent.com/CharlesColgan/MSDS-6350-6373-CODE/master/hw2/EBRIMA.csv\")\n",
        "GILL = pd.read_csv('https://raw.githubusercontent.com/sul01/MSDS-CODE/master/hw3/GILL.csv')\n",
        "\n",
        "#cleaning\n",
        "drop_names = [\"fontVariant\",\"m_label\",\"orientation\",\"m_top\",\"m_left\",\"originalH\",\"originalW\",\"h\",\"w\"]\n",
        "FONT = [BITSTREAMVERA, CENTURY, CONSOLAS, EBRIMA, GILL]; CL = []\n",
        "for i in range(5):\n",
        "  CL.append(FONT[i][(FONT[i]['strength']==0.4) & (FONT[i]['italic']==0)].drop(drop_names,axis=1))\n",
        "\n",
        "#transforming\n",
        "def fontToMatrix(font, df):\n",
        "  for case in range(df.shape[0]):\n",
        "    font[case] =  np.array(df[df.columns[3:]].iloc[case]).reshape(20,20)\n",
        "\n",
        "FONT_mat = [] #font as 20x20 matrix\n",
        "for i in range(5):\n",
        "  FONT_mat.append(np.empty((CL[i].shape[0],20,20), int))\n",
        "  fontToMatrix(FONT_mat[i], CL[i])"
      ],
      "execution_count": 1,
      "outputs": []
    },
    {
      "cell_type": "markdown",
      "metadata": {
        "id": "UjTroxPPkW5D"
      },
      "source": [
        "Examples"
      ]
    },
    {
      "cell_type": "code",
      "metadata": {
        "id": "SAVenXDYeZma",
        "colab": {
          "base_uri": "https://localhost:8080/",
          "height": 1000
        },
        "outputId": "c2ddb437-583a-4ad9-bbe4-e4e42f7abc78"
      },
      "source": [
        "import matplotlib.pyplot as plt\n",
        "\n",
        "print('Bitstream\\n'); plt.imshow(FONT_mat[0][8], cmap=plt.cm.binary); plt.show() \n",
        "print('Century\\n'); plt.imshow(FONT_mat[1][199], cmap=plt.cm.binary); plt.show() \n",
        "print('Consolas\\n'); plt.imshow(FONT_mat[2][26], cmap=plt.cm.binary); plt.show() \n",
        "print('Ebrima\\n'); plt.imshow(FONT_mat[3][1387], cmap=plt.cm.binary); plt.show() \n",
        "print('Gill\\n'); plt.imshow(FONT_mat[4][243], cmap=plt.cm.binary); plt.show() "
      ],
      "execution_count": 2,
      "outputs": [
        {
          "output_type": "stream",
          "text": [
            "Bitstream\n",
            "\n"
          ],
          "name": "stdout"
        },
        {
          "output_type": "display_data",
          "data": {
            "image/png": "[encoded data removed]",
            "text/plain": [
              "<Figure size 432x288 with 1 Axes>"
            ]
          },
          "metadata": {
            "tags": [],
            "needs_background": "light"
          }
        },
        {
          "output_type": "stream",
          "text": [
            "Century\n",
            "\n"
          ],
          "name": "stdout"
        },
        {
          "output_type": "display_data",
          "data": {
            "image/png": "[encoded data removed]",
            "text/plain": [
              "<Figure size 432x288 with 1 Axes>"
            ]
          },
          "metadata": {
            "tags": [],
            "needs_background": "light"
          }
        },
        {
          "output_type": "stream",
          "text": [
            "Consolas\n",
            "\n"
          ],
          "name": "stdout"
        },
        {
          "output_type": "display_data",
          "data": {
            "image/png": "[encoded data removed]",
            "text/plain": [
              "<Figure size 432x288 with 1 Axes>"
            ]
          },
          "metadata": {
            "tags": [],
            "needs_background": "light"
          }
        },
        {
          "output_type": "stream",
          "text": [
            "Ebrima\n",
            "\n"
          ],
          "name": "stdout"
        },
        {
          "output_type": "display_data",
          "data": {
            "image/png": "[encoded data removed]",
            "text/plain": [
              "<Figure size 432x288 with 1 Axes>"
            ]
          },
          "metadata": {
            "tags": [],
            "needs_background": "light"
          }
        },
        {
          "output_type": "stream",
          "text": [
            "Gill\n",
            "\n"
          ],
          "name": "stdout"
        },
        {
          "output_type": "display_data",
          "data": {
            "image/png": "[encoded data removed]",
            "text/plain": [
              "<Figure size 432x288 with 1 Axes>"
            ]
          },
          "metadata": {
            "tags": [],
            "needs_background": "light"
          }
        }
      ]
    },
    {
      "cell_type": "markdown",
      "metadata": {
        "id": "uysAFZA-yshI"
      },
      "source": [
        "train/test split"
      ]
    },
    {
      "cell_type": "code",
      "metadata": {
        "id": "XTt7dRHWlLgf"
      },
      "source": [
        "from sklearn.model_selection import train_test_split\n",
        "\n",
        "def ypred(x, model):\n",
        "  return list(map({0:'BITSTREAMVERA', 1:'CENTURY', 2:'CONSOLAS', 3:'EBRIMA', 4:'GILL'}.get, model.predict(x).argmax(axis = -1)))\n",
        "\n",
        "dataX = np.concatenate(([FONT_mat[i] for i in range(5)])).reshape(-1,20,20,1)\n",
        "dataY = np.concatenate(([CL[i]['font'] for i in range(5)]))\n",
        "train, test = train_test_split(range(dataX.shape[0]), test_size = 0.2, random_state = 0)\n",
        "x_train = dataX[train]; x_test = dataX[test]\n",
        "y_train = dataY[train]; y_test = dataY[test]"
      ],
      "execution_count": 3,
      "outputs": []
    },
    {
      "cell_type": "markdown",
      "metadata": {
        "id": "s12xugA3eKL8"
      },
      "source": [
        "#CNN"
      ]
    },
    {
      "cell_type": "markdown",
      "metadata": {
        "id": "67Jr7-U6iQH1"
      },
      "source": [
        "(https://www.tensorflow.org/tutorials/images/cnn)"
      ]
    },
    {
      "cell_type": "code",
      "metadata": {
        "id": "qL_UbbEkeMJk",
        "outputId": "0f377174-1e19-4dcb-bb43-95aa7c1cfd41",
        "colab": {
          "base_uri": "https://localhost:8080/"
        }
      },
      "source": [
        "import tensorflow as tf\n",
        "from tensorflow.keras import datasets, layers, models\n",
        "\n",
        "#build (step 3)\n",
        "model = models.Sequential()\n",
        "model.add(layers.Conv2D(16, (5, 5), activation='relu', input_shape=(20, 20, 1)))\n",
        "model.add(layers.MaxPooling2D((2, 2), strides= 2))\n",
        "model.add(layers.Conv2D(16, (3, 3), activation='relu'))\n",
        "model.add(layers.MaxPooling2D((2, 2), strides= 2))\n",
        "model.add(layers.Flatten())\n",
        "model.add(layers.Dense(100, activation='relu')) #100 chosen at random\n",
        "model.add(layers.Dense(5))\n",
        "#model.summary()\n",
        "\n",
        "model.compile(optimizer='adam', loss=tf.keras.losses.SparseCategoricalCrossentropy(from_logits=True), metrics=['accuracy'])\n",
        "monitor = model.fit(x_train, pd.Series(y_train,dtype='category').astype('category').cat.codes, epochs=20,\n",
        "                    validation_data=(x_test, pd.Series(y_test, dtype='category').astype('category').cat.codes))"
      ],
      "execution_count": 4,
      "outputs": [
        {
          "output_type": "stream",
          "text": [
            "Epoch 1/20\n",
            "245/245 [==============================] - 3s 12ms/step - loss: 9.3895 - accuracy: 0.3224 - val_loss: 1.5104 - val_accuracy: 0.4460\n",
            "Epoch 2/20\n",
            "245/245 [==============================] - 2s 10ms/step - loss: 1.4109 - accuracy: 0.4583 - val_loss: 1.3399 - val_accuracy: 0.4931\n",
            "Epoch 3/20\n",
            "245/245 [==============================] - 2s 10ms/step - loss: 1.1862 - accuracy: 0.5459 - val_loss: 1.2469 - val_accuracy: 0.5044\n",
            "Epoch 4/20\n",
            "245/245 [==============================] - 2s 10ms/step - loss: 1.1674 - accuracy: 0.5426 - val_loss: 1.1108 - val_accuracy: 0.5873\n",
            "Epoch 5/20\n",
            "245/245 [==============================] - 2s 10ms/step - loss: 0.9713 - accuracy: 0.6166 - val_loss: 1.0580 - val_accuracy: 0.6001\n",
            "Epoch 6/20\n",
            "245/245 [==============================] - 2s 10ms/step - loss: 0.9158 - accuracy: 0.6493 - val_loss: 1.0274 - val_accuracy: 0.6144\n",
            "Epoch 7/20\n",
            "245/245 [==============================] - 2s 10ms/step - loss: 0.8608 - accuracy: 0.6719 - val_loss: 0.9753 - val_accuracy: 0.6400\n",
            "Epoch 8/20\n",
            "245/245 [==============================] - 2s 10ms/step - loss: 0.8560 - accuracy: 0.6748 - val_loss: 0.9577 - val_accuracy: 0.6703\n",
            "Epoch 9/20\n",
            "245/245 [==============================] - 2s 10ms/step - loss: 0.7379 - accuracy: 0.7206 - val_loss: 0.9432 - val_accuracy: 0.6477\n",
            "Epoch 10/20\n",
            "245/245 [==============================] - 2s 10ms/step - loss: 0.7056 - accuracy: 0.7337 - val_loss: 0.8985 - val_accuracy: 0.6749\n",
            "Epoch 11/20\n",
            "245/245 [==============================] - 2s 10ms/step - loss: 0.6283 - accuracy: 0.7637 - val_loss: 0.8831 - val_accuracy: 0.6969\n",
            "Epoch 12/20\n",
            "245/245 [==============================] - 2s 10ms/step - loss: 0.6508 - accuracy: 0.7606 - val_loss: 0.8720 - val_accuracy: 0.7102\n",
            "Epoch 13/20\n",
            "245/245 [==============================] - 2s 10ms/step - loss: 0.6545 - accuracy: 0.7490 - val_loss: 0.8345 - val_accuracy: 0.6964\n",
            "Epoch 14/20\n",
            "245/245 [==============================] - 3s 10ms/step - loss: 0.5267 - accuracy: 0.8030 - val_loss: 0.8776 - val_accuracy: 0.6999\n",
            "Epoch 15/20\n",
            "245/245 [==============================] - 2s 10ms/step - loss: 0.5255 - accuracy: 0.7956 - val_loss: 0.8403 - val_accuracy: 0.7163\n",
            "Epoch 16/20\n",
            "245/245 [==============================] - 2s 10ms/step - loss: 0.5003 - accuracy: 0.8173 - val_loss: 0.8649 - val_accuracy: 0.7056\n",
            "Epoch 17/20\n",
            "245/245 [==============================] - 2s 10ms/step - loss: 0.4624 - accuracy: 0.8262 - val_loss: 0.8921 - val_accuracy: 0.7250\n",
            "Epoch 18/20\n",
            "245/245 [==============================] - 2s 10ms/step - loss: 0.4507 - accuracy: 0.8289 - val_loss: 1.0233 - val_accuracy: 0.6733\n",
            "Epoch 19/20\n",
            "245/245 [==============================] - 2s 10ms/step - loss: 0.5342 - accuracy: 0.8054 - val_loss: 0.8876 - val_accuracy: 0.7220\n",
            "Epoch 20/20\n",
            "245/245 [==============================] - 2s 10ms/step - loss: 0.3950 - accuracy: 0.8537 - val_loss: 0.9691 - val_accuracy: 0.7071\n"
          ],
          "name": "stdout"
        }
      ]
    },
    {
      "cell_type": "markdown",
      "metadata": {
        "id": "zh_CY74anfxz"
      },
      "source": [
        "Performance during learning (currently incorrect for training sets)"
      ]
    },
    {
      "cell_type": "code",
      "metadata": {
        "id": "1DI_r1ELniUk",
        "outputId": "09287893-c1d6-44ae-9c94-f2cbe945abf4",
        "colab": {
          "base_uri": "https://localhost:8080/",
          "height": 541
        }
      },
      "source": [
        "def plotCrssEntr(monitor):\n",
        "  plt.plot(monitor.model.history.history['loss'], label = 'Training loss')\n",
        "  plt.plot(monitor.model.history.history['val_loss'], label = 'Test loss')\n",
        "  plt.xlabel('Epoch'); plt.ylabel('Loss (CrossEntr)')\n",
        "  plt.legend(); plt.grid(True); plt.show()\n",
        "\n",
        "def plotAcc(monitor):\n",
        "  plt.plot(monitor.model.history.history['accuracy'], label = 'Training accuracy')\n",
        "  plt.plot(monitor.model.history.history['val_accuracy'], label = 'Test accuracy')\n",
        "  plt.xlabel('Epoch'); plt.ylabel('Accuracy')\n",
        "  plt.legend(); plt.grid(True); plt.show()\n",
        "\n",
        "plotCrssEntr(monitor); plotAcc(monitor)"
      ],
      "execution_count": 5,
      "outputs": [
        {
          "output_type": "display_data",
          "data": {
            "image/png": "[encoded data removed]",
            "text/plain": [
              "<Figure size 432x288 with 1 Axes>"
            ]
          },
          "metadata": {
            "tags": [],
            "needs_background": "light"
          }
        },
        {
          "output_type": "display_data",
          "data": {
            "image/png": "[encoded data removed]",
            "text/plain": [
              "<Figure size 432x288 with 1 Axes>"
            ]
          },
          "metadata": {
            "tags": [],
            "needs_background": "light"
          }
        }
      ]
    },
    {
      "cell_type": "markdown",
      "metadata": {
        "id": "fEJy_QGwoElA"
      },
      "source": [
        "Conf Matirx"
      ]
    },
    {
      "cell_type": "code",
      "metadata": {
        "id": "3Gr1TW_koHCx",
        "outputId": "5208c4bf-24a1-4f7f-d349-07ef4fa94164",
        "colab": {
          "base_uri": "https://localhost:8080/"
        }
      },
      "source": [
        "def conf(actu, pred):\n",
        "  y_actu = pd.Series(np.array(actu), name = 'Actual')\n",
        "  y_pred = pd.Series(pred, name = 'Predicted')\n",
        "  df_confusion = pd.crosstab(y_actu, y_pred)\n",
        "  return df_confusion/ df_confusion.sum()\n",
        "\n",
        "trainConf = conf(y_train, ypred(x_train, monitor.model))\n",
        "print('Train:\\n', trainConf)\n",
        "\n",
        "testConf = conf(y_test, ypred(x_test, monitor.model))\n",
        "print('\\nTest:\\n', testConf)"
      ],
      "execution_count": 6,
      "outputs": [
        {
          "output_type": "stream",
          "text": [
            "Train:\n",
            " Predicted      BITSTREAMVERA   CENTURY  CONSOLAS    EBRIMA      GILL\n",
            "Actual                                                              \n",
            "BITSTREAMVERA       0.965355  0.014682  0.043023  0.011967  0.077686\n",
            "CENTURY             0.001174  0.812398  0.023837  0.026926  0.040496\n",
            "CONSOLAS            0.013506  0.066884  0.851744  0.089753  0.054545\n",
            "EBRIMA              0.001762  0.064165  0.044767  0.845924  0.037190\n",
            "GILL                0.018203  0.041871  0.036628  0.025430  0.790083\n",
            "\n",
            "Test:\n",
            " Predicted      BITSTREAMVERA   CENTURY  CONSOLAS    EBRIMA      GILL\n",
            "Actual                                                              \n",
            "BITSTREAMVERA       0.896465  0.012320  0.072727  0.025890  0.124611\n",
            "CENTURY             0.015152  0.661191  0.029545  0.067961  0.046729\n",
            "CONSOLAS            0.032828  0.131417  0.709091  0.187702  0.127726\n",
            "EBRIMA              0.002525  0.137577  0.122727  0.637540  0.093458\n",
            "GILL                0.053030  0.057495  0.065909  0.080906  0.607477\n"
          ],
          "name": "stdout"
        }
      ]
    }
  ]
}